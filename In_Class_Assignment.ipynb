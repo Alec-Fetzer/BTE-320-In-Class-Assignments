{
  "nbformat": 4,
  "nbformat_minor": 0,
  "metadata": {
    "colab": {
      "provenance": [],
      "authorship_tag": "ABX9TyOd60dv7QFWEs3jiyjOblDP",
      "include_colab_link": true
    },
    "kernelspec": {
      "name": "python3",
      "display_name": "Python 3"
    },
    "language_info": {
      "name": "python"
    }
  },
  "cells": [
    {
      "cell_type": "markdown",
      "metadata": {
        "id": "view-in-github",
        "colab_type": "text"
      },
      "source": [
        "<a href=\"https://colab.research.google.com/github/Alec-Fetzer/BTE-320-In-Class-Assignments/blob/main/In_Class_Assignment.ipynb\" target=\"_parent\"><img src=\"https://colab.research.google.com/assets/colab-badge.svg\" alt=\"Open In Colab\"/></a>"
      ]
    },
    {
      "cell_type": "code",
      "execution_count": null,
      "metadata": {
        "colab": {
          "base_uri": "https://localhost:8080/"
        },
        "id": "DsBaRAI1x4MR",
        "outputId": "f9fc4040-a66a-4d07-96ea-65df8112fcf0"
      },
      "outputs": [
        {
          "output_type": "stream",
          "name": "stdout",
          "text": [
            "244.92000000000002\n"
          ]
        }
      ],
      "source": [
        "r = 3 # radius of cylinder\n",
        "pi = 3.14  # abbreviated verson of the number pi\n",
        "h = 10    # height of cylinder\n",
        "# Calculate surface area of cylinder\n",
        "area = (2 * pi * r ** 2) + (2 * pi * r * h)\n",
        "# Display area on the screen\n",
        "print(area)"
      ]
    },
    {
      "cell_type": "markdown",
      "source": [
        "Rock, Paper, Scissors"
      ],
      "metadata": {
        "id": "Y1btTqAVTAZF"
      }
    },
    {
      "cell_type": "code",
      "source": [
        "p1 = input('choose rock ,paper, scissors: ')\n",
        "p2 = input('choose rock , paper, scissors: ')\n",
        "\n",
        "if p1 == p2:\n",
        "  print('draw')\n",
        "# Use the Boolean operators\n",
        "elif (p1 == 'rock' and p2 == 'scissors') or (p1 == 'scissors' and p2 == 'paper') or (p1 == 'paper' and p2 == 'rock'):\n",
        "  print('p1 Wins')\n",
        "else:\n",
        "  print('p2 Wins')\n"
      ],
      "metadata": {
        "colab": {
          "base_uri": "https://localhost:8080/"
        },
        "id": "N_0R5ytkSMah",
        "outputId": "03136019-c0e5-4a10-f807-1a31007eb1d5"
      },
      "execution_count": null,
      "outputs": [
        {
          "output_type": "stream",
          "name": "stdout",
          "text": [
            "choose rock ,paper, scissors: paper\n",
            "choose rock , paper, scissors: rock\n",
            "p1 Wins\n"
          ]
        }
      ]
    }
  ]
}