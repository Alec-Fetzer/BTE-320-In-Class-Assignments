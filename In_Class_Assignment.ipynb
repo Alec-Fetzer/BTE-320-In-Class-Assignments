{
  "nbformat": 4,
  "nbformat_minor": 0,
  "metadata": {
    "colab": {
      "provenance": [],
      "authorship_tag": "ABX9TyPU5jlfoOXReHl8HyfTn/Q5",
      "include_colab_link": true
    },
    "kernelspec": {
      "name": "python3",
      "display_name": "Python 3"
    },
    "language_info": {
      "name": "python"
    }
  },
  "cells": [
    {
      "cell_type": "markdown",
      "metadata": {
        "id": "view-in-github",
        "colab_type": "text"
      },
      "source": [
        "<a href=\"https://colab.research.google.com/github/Alec-Fetzer/BTE-320-In-Class-Assignments/blob/main/In_Class_Assignment.ipynb\" target=\"_parent\"><img src=\"https://colab.research.google.com/assets/colab-badge.svg\" alt=\"Open In Colab\"/></a>"
      ]
    },
    {
      "cell_type": "code",
      "execution_count": null,
      "metadata": {
        "colab": {
          "base_uri": "https://localhost:8080/"
        },
        "id": "DsBaRAI1x4MR",
        "outputId": "f9fc4040-a66a-4d07-96ea-65df8112fcf0"
      },
      "outputs": [
        {
          "output_type": "stream",
          "name": "stdout",
          "text": [
            "244.92000000000002\n"
          ]
        }
      ],
      "source": [
        "r = 3 # radius of cylinder\n",
        "pi = 3.14  # abbreviated verson of the number pi\n",
        "h = 10    # height of cylinder\n",
        "# Calculate surface area of cylinder\n",
        "area = (2 * pi * r ** 2) + (2 * pi * r * h)\n",
        "# Display area on the screen\n",
        "print(area)"
      ]
    },
    {
      "cell_type": "markdown",
      "source": [
        "Rock, Paper, Scissors"
      ],
      "metadata": {
        "id": "Y1btTqAVTAZF"
      }
    },
    {
      "cell_type": "code",
      "source": [
        "p1 = input('choose rock ,paper, scissors: ')\n",
        "p2 = input('choose rock , paper, scissors: ')\n",
        "\n",
        "if p1 == p2:\n",
        "  print('draw')\n",
        "# Use the Boolean operators\n",
        "elif (p1 == 'rock' and p2 == 'scissors') or (p1 == 'scissors' and p2 == 'paper') or (p1 == 'paper' and p2 == 'rock'):\n",
        "  print('p1 Wins')\n",
        "else:\n",
        "  print('p2 Wins')\n"
      ],
      "metadata": {
        "colab": {
          "base_uri": "https://localhost:8080/"
        },
        "id": "N_0R5ytkSMah",
        "outputId": "03136019-c0e5-4a10-f807-1a31007eb1d5"
      },
      "execution_count": null,
      "outputs": [
        {
          "output_type": "stream",
          "name": "stdout",
          "text": [
            "choose rock ,paper, scissors: paper\n",
            "choose rock , paper, scissors: rock\n",
            "p1 Wins\n"
          ]
        }
      ]
    },
    {
      "cell_type": "markdown",
      "source": [
        "Creating a Calculator"
      ],
      "metadata": {
        "id": "FdbBNuID9hMG"
      }
    },
    {
      "cell_type": "code",
      "source": [
        "n1 = float(input('Enter number 1: '))\n",
        "n2 = float(input('Enter number 2:'))\n",
        "symbol = input('Choose op:')\n",
        "if symbol == '/':\n",
        "  print(n1 / n2)\n",
        "elif symbol == '*':\n",
        "  print(n1 * n2)\n",
        "elif symbol == '+':\n",
        "  print (n1 + n2)\n",
        "elif symbol == '-':\n",
        "  print (n1 - n2)\n",
        "elif symbol == '**':\n",
        "  print( n1 ** n2)"
      ],
      "metadata": {
        "colab": {
          "base_uri": "https://localhost:8080/"
        },
        "id": "xx3Sh_vJ9jo9",
        "outputId": "0812c7e3-8273-4d39-908a-ea7efa60e02f"
      },
      "execution_count": null,
      "outputs": [
        {
          "output_type": "stream",
          "name": "stdout",
          "text": [
            "Enter number 1: 10\n",
            "Enter number 2:2\n",
            "Choose op:**\n",
            "100.0\n"
          ]
        }
      ]
    },
    {
      "cell_type": "markdown",
      "source": [
        "Rock-Pape-Scissors using 'While'"
      ],
      "metadata": {
        "id": "SAQCbYJo9So4"
      }
    },
    {
      "cell_type": "code",
      "source": [
        "import random\n",
        "\n",
        "c = input ('Would you like to play rock-paper-scissors?')\n",
        "\n",
        "while c == 'Yes':\n",
        "  p1 = input('choose rock ,paper, scissors: ')\n",
        "  p2 = input('choose rock ,paper, scissors: ')\n",
        "\n",
        "  if p1 == p2:\n",
        "    print('draw')\n",
        "  # Use the Boolean operators\n",
        "  elif (p1 == 'rock' and p2 == 'scissors') or (p1 == 'scissors' and p2 == 'paper') or (p1 == 'paper' and p2 == 'rock'):\n",
        "    print('p1 Wins')\n",
        "  else:\n",
        "    print('p2 Wins')\n",
        "\n",
        "  c = input ('Would you like to play rock-paper-scissors?')\n",
        "print ('Have a nice day!')"
      ],
      "metadata": {
        "colab": {
          "base_uri": "https://localhost:8080/"
        },
        "id": "VR52TtD49Vxb",
        "outputId": "a7a08184-a3dd-4bee-f9f0-b32788e570ef"
      },
      "execution_count": 20,
      "outputs": [
        {
          "output_type": "stream",
          "name": "stdout",
          "text": [
            "Would you like to play rock-paper-scissors?Yes\n",
            "choose rock ,paper, scissors: Rock\n",
            "choose rock ,paper, scissors: paper\n",
            "p2 Wins\n",
            "Would you like to play rock-paper-scissors?No\n",
            "Have a nice day!\n"
          ]
        }
      ]
    }
  ]
}